{
 "cells": [
  {
   "cell_type": "markdown",
   "id": "62916f4f",
   "metadata": {},
   "source": [
    "### Initialise Environment"
   ]
  },
  {
   "cell_type": "code",
   "execution_count": null,
   "id": "bcd9802e-4899-497b-a583-d5a759c6aa12",
   "metadata": {},
   "outputs": [],
   "source": [
    "import pandas as pd\n",
    "import glob\n",
    "import os\n",
    "import matplotlib.pyplot as plt\n",
    "import seaborn as sns\n",
    "%matplotlib inline\n",
    "from pathlib import Path\n",
    "\n",
    "sns.set(style=\"whitegrid\")\n",
    "#set folder path\n",
    "root_dir = Path(os.getcwd()).parent\n",
    "folder_path = root_dir/\"O365_temp\"\n",
    "file_list = glob.glob(os.path.join(folder_path, \"*.csv\"))\n",
    "\n",
    "\n",
    "df_list = []\n",
    "\n",
    "for file in file_list:\n",
    "    # Determine signin type from filename\n",
    "    filename = os.path.basename(file)\n",
    "    if filename.startswith(\"Interactive\"):\n",
    "        signin_type = \"Interactive\"\n",
    "    elif filename.startswith(\"NonInteractive\"):\n",
    "        signin_type = \"NonInteractive\"\n",
    "    else:\n",
    "        signin_type = \"Unknown\"  # fallback if name doesn't match\n",
    "\n",
    "    # Read CSV\n",
    "    temp_df = pd.read_csv(file, low_memory=False)\n",
    "\n",
    "    # Add signin_type column\n",
    "    temp_df['signin_type'] = signin_type\n",
    "\n",
    "    # Append to list\n",
    "    df_list.append(temp_df)\n",
    "\n",
    "# Merge all into one DataFrame\n",
    "df = pd.concat(df_list, ignore_index=True)\n",
    "\n",
    "#convert timestamp column\n",
    "df['Date (UTC)'] = pd.to_datetime(df['Date (UTC)'])\n",
    "\n",
    "#extract login country\n",
    "df['country'] = df['Location'].str.strip().str.split(',').str[-1].str.strip()\n",
    "\n",
    "# List of sensitive users\n",
    "sensitive_users = [\n",
    "   # 'sensitive username no.1', sensitive username no.2', 'sensitive username no.3'\n",
    "]\n",
    "\n",
    "# List of known safe IP addresses to ignore\n",
    "safe_ips = [\n",
    "    # \"known IP 1\", \"known IP 2\", \"known IP 3\"\n",
    "]\n",
    "\n",
    "#show the earliest and latest dates\n",
    "print(\"Earliest date:\", df['Date (UTC)'].min())\n",
    "print(\"Latest date:\", df['Date (UTC)'].max())   \n",
    "\n",
    "#show the number of days in the dataset\n",
    "print(\"Number of days in dataset:\", (df['Date (UTC)'].max() - df['Date (UTC)'].min()).days + 1)\n",
    "\n",
    "\n",
    "# Extract the country from the Location field and add a new column called country containing the country code\n",
    "import pycountry_convert as pc\n",
    "\n",
    "def get_continent(country_code):\n",
    "    try:\n",
    "        continent_code = pc.country_alpha2_to_continent_code(country_code)\n",
    "        return continent_code\n",
    "    except:\n",
    "        return 'Unknown'\n",
    "\n",
    "df['continent'] = df['country'].apply(get_continent)\n"
   ]
  },
  {
   "cell_type": "markdown",
   "id": "2043924a",
   "metadata": {},
   "source": [
    "# Filter for Successful Interactive Logins at Suspicious Time of Day"
   ]
  },
  {
   "cell_type": "code",
   "execution_count": null,
   "id": "3f8cc37a-09ae-4923-af37-b68088eb18b6",
   "metadata": {},
   "outputs": [],
   "source": [
    "#check succesful logins after hours\n",
    "df['hour'] = df['Date (UTC)'].dt.hour\n",
    "after_hours_success = df[\n",
    "    ((df['hour']<3) | (df['hour']>21)) &\n",
    "    (df['Status'].str.lower() == 'success') &\n",
    "    (df['signin_type'] == 'Interactive') \n",
    "]\n",
    "\n",
    "print(after_hours_success['Date (UTC)'].count(),'\\033[1m' + 'Successful interactive Logins after hours  (between 23:00 and 04:00)' + '\\033[0m')\n",
    "print('')\n",
    "with pd.option_context('display.max_rows', None, 'display.max_columns', None):\n",
    "  print(after_hours_success[['User', 'Date (UTC)', 'country', 'signin_type' ]])\n",
    "\n"
   ]
  },
  {
   "cell_type": "markdown",
   "id": "8fdd67a2",
   "metadata": {},
   "source": [
    "## Successful after-hours logins by sensitive users"
   ]
  },
  {
   "cell_type": "code",
   "execution_count": null,
   "id": "9dd2e458",
   "metadata": {},
   "outputs": [],
   "source": [
    "sensitive_after_hours_success = after_hours_success[\n",
    "    after_hours_success['User'].isin(sensitive_users)\n",
    "]   \n",
    "\n",
    "print(sensitive_after_hours_success['Date (UTC)'].count(),'\\033[1m' + 'Successful After Hours Interactive Logins for Sensitive Users' + '\\033[0m')\n",
    "\n",
    "with pd.option_context('display.max_rows', None, 'display.max_columns', None):\n",
    "  print(sensitive_after_hours_success[['User', 'Date (UTC)', 'country', 'IP address', 'signin_type']].drop_duplicates().sort_values(by='User'))  \n"
   ]
  },
  {
   "cell_type": "markdown",
   "id": "f2bce7c5",
   "metadata": {},
   "source": [
    "# Successful Overseas Logins and Highlight Non-European Countries"
   ]
  },
  {
   "cell_type": "code",
   "execution_count": null,
   "id": "777d3052-3dc0-4673-be8d-28186c81a2e4",
   "metadata": {},
   "outputs": [],
   "source": [
    "## Successful overseas logins \n",
    "\n",
    "overseas_success = df[\n",
    "    (df['Status'].str.lower() == 'success') &\n",
    "     (df['country'] != 'MT') & # country is not Malta\n",
    "     (df['country'] != '')\n",
    "      ]\n",
    "non_europe_logins = overseas_success[overseas_success['continent'] != 'EU']\n",
    "print('\\033[1m' + 'Successful Overseas Login - Countries' + '\\033[0m')\n",
    "print(overseas_success['country'].unique())\n",
    "print('')\n",
    "print('')\n",
    "print('\\033[1m' + 'Attention - Non-European Countries' + '\\033[0m')\n",
    "with pd.option_context('display.max_rows', None, 'display.max_columns', None):\n",
    "  print(non_europe_logins[['User', 'country', 'signin_type']].drop_duplicates())\n",
    "\n",
    "# print unique combination of user and country\n",
    "print('')\n",
    "print('\\033[1m' + 'Unique User and Country Combinations' + '\\033[0m')\n",
    "unique_user_country = overseas_success[['User', 'country','signin_type']].drop_duplicates().sort_values(by='User')\n",
    "with pd.option_context('display.max_rows', None, 'display.max_columns', None):\n",
    "  print(unique_user_country.sort_values(by='User'))   "
   ]
  },
  {
   "cell_type": "markdown",
   "id": "5933e463",
   "metadata": {},
   "source": [
    "## List Strange hours logins by country"
   ]
  },
  {
   "cell_type": "code",
   "execution_count": null,
   "id": "5ffcbabd-7ea7-41a2-a8e3-2c18cc1e9d88",
   "metadata": {},
   "outputs": [],
   "source": [
    "## Succesful out of hours logins by country\n",
    "print('\\033[1m' + 'Successful Login After Hours - Countries' + '\\033[0m')\n",
    "print(after_hours_success['country'].unique())\n",
    "\n",
    "non_europe_logins = after_hours_success[after_hours_success['continent'] != 'EU']\n",
    "print('')\n",
    "print('\\033[1m' + 'Attention - Non-European Countries' + '\\033[0m')\n",
    "print(non_europe_logins['country'].unique())"
   ]
  },
  {
   "cell_type": "markdown",
   "id": "3c4dca57",
   "metadata": {},
   "source": [
    "## List Overseas Logins by Sensitive Users"
   ]
  },
  {
   "cell_type": "code",
   "execution_count": null,
   "id": "a2fb9ca7",
   "metadata": {},
   "outputs": [],
   "source": [
    "sensitive_overseas_success = overseas_success[\n",
    "    overseas_success['User'].isin(sensitive_users)\n",
    "]   \n",
    "\n",
    "print(sensitive_overseas_success['Date (UTC)'].count(),'\\033[1m' + 'Successful After Hours Logins for Sensitive Users' + '\\033[0m')\n",
    "\n",
    "with pd.option_context('display.max_rows', None, 'display.max_columns', None):\n",
    "  print(sensitive_overseas_success[['User', 'Date (UTC)', 'country', 'IP address', 'signin_type']].drop_duplicates().sort_values(by='User'))  \n"
   ]
  },
  {
   "cell_type": "markdown",
   "id": "fce5a032",
   "metadata": {},
   "source": [
    "# List Failed Interactive Logins by user"
   ]
  },
  {
   "cell_type": "code",
   "execution_count": null,
   "id": "8d912fc2-f27d-444f-b23e-8a278bd5a438",
   "metadata": {},
   "outputs": [],
   "source": [
    "##Failed Logins by User\n",
    "failed_interactive_logins = df[\n",
    "    (df['Status'].str.lower() == 'failure') &\n",
    "    (df['signin_type'] == 'Interactive')\n",
    "]\n",
    "failed_counts = failed_interactive_logins.groupby('User').size().sort_values(ascending=False)\n",
    "print('\\033[1m' + 'Failed Interactive Logins by User' + '\\033[0m')\n",
    "print('')\n",
    "print(failed_counts.head(20))"
   ]
  },
  {
   "cell_type": "code",
   "execution_count": null,
   "id": "0817fc0d-54f9-43a4-83b8-7cf59157806b",
   "metadata": {},
   "outputs": [],
   "source": [
    "failed_counts_top = failed_interactive_logins['User'].value_counts().head(10)\n",
    "\n",
    "plt.figure(figsize=(10, 5))\n",
    "sns.barplot(x=failed_counts_top.values, y=failed_counts_top.index, hue=failed_counts_top.index, palette=\"Oranges_r\",legend=False)\n",
    "plt.title(\"Top 10 Users by Failed Logins\")\n",
    "plt.xlabel(\"Failed Attempts\")\n",
    "plt.ylabel(\"User\")\n",
    "plt.tight_layout()\n",
    "plt.show()"
   ]
  },
  {
   "cell_type": "markdown",
   "id": "932c23d5",
   "metadata": {},
   "source": [
    "## Top 10 Countries for Failed Logins"
   ]
  },
  {
   "cell_type": "code",
   "execution_count": null,
   "id": "dfe2d56e-f0bf-47d3-887b-3ff6e5b72a4e",
   "metadata": {},
   "outputs": [],
   "source": [
    "failed_logins = df[(df['Status'].str.lower() == 'failure')]\n",
    "\n",
    "country_counts = failed_logins['country'].value_counts().head(10)\n",
    "\n",
    "plt.figure(figsize=(6, 6))\n",
    "country_counts.plot.pie(autopct='%1.1f%%', startangle=90, cmap='Reds')\n",
    "plt.ylabel(\"\")\n",
    "plt.title(\"Top 10 Countries for Failed Logins\")\n",
    "plt.tight_layout()\n",
    "plt.show()\n"
   ]
  },
  {
   "cell_type": "markdown",
   "id": "5ff6888a",
   "metadata": {},
   "source": [
    "# List Suspicious IPs (IPs with multiple failed attempts)"
   ]
  },
  {
   "cell_type": "code",
   "execution_count": null,
   "id": "980cc6d1",
   "metadata": {},
   "outputs": [],
   "source": [
    "## SUSPICIOUS IPs ##\n",
    "\n",
    "\n",
    "# Filter only failed login attempts\n",
    "failed_logins = df[df['Status'].str.lower() == 'failure']\n",
    "\n",
    "# Exclude safe IPs\n",
    "failed_logins = failed_logins[~failed_logins['IP address'].isin(safe_ips)]\n",
    "\n",
    "# Group by IP address and User, then count the number of failed attempts\n",
    "failed_attempts_summary = (\n",
    "    failed_logins\n",
    "    .groupby(['IP address', 'User', 'country'])\n",
    "    .size()\n",
    "    .reset_index(name='Failed Attempts')\n",
    "    .sort_values(by='Failed Attempts', ascending=False)\n",
    ")\n",
    "\n",
    "# Show only entries with more than a threshold (e.g., more than 3 failed attempts)\n",
    "suspicious_ips = failed_attempts_summary[failed_attempts_summary['Failed Attempts'] > 2]\n",
    "\n",
    "# Display the result\n",
    "with pd.option_context('display.max_rows', None, 'display.max_columns', None):\n",
    "    print(suspicious_ips)"
   ]
  },
  {
   "cell_type": "markdown",
   "id": "6eb9b646",
   "metadata": {},
   "source": [
    "## IPs with most failed login attempts"
   ]
  },
  {
   "cell_type": "code",
   "execution_count": null,
   "id": "2a6516cb",
   "metadata": {},
   "outputs": [],
   "source": [
    "# Group by IP address, count unique users and sum failed attempts\n",
    "ip_summary = (\n",
    "    suspicious_ips\n",
    "    .groupby('IP address')\n",
    "    .agg(\n",
    "        num_users=('User', 'nunique'),\n",
    "        total_failed_attempts=('Failed Attempts', 'sum'),\n",
    "        countries=('country', lambda x: ', '.join(x.unique()))\n",
    "    )\n",
    "    .reset_index()\n",
    "    .sort_values(by='total_failed_attempts', ascending=False)\n",
    ")\n",
    "\n",
    "print(ip_summary.head(20))"
   ]
  },
  {
   "cell_type": "markdown",
   "id": "2d00f6e8",
   "metadata": {},
   "source": [
    "# Check for Impossible Travel Scenarios"
   ]
  },
  {
   "cell_type": "code",
   "execution_count": null,
   "id": "06545732-06bc-4b47-900d-46e134387a85",
   "metadata": {},
   "outputs": [],
   "source": [
    "# Sort by user and timestamp\n",
    "df_success = df[df['Status'].str.lower() == 'success']\n",
    "\n",
    "df_sorted = df_success.sort_values(by=['User', 'Date (UTC)'])\n",
    "\n",
    "\n",
    "# Calculate time difference and check country changes\n",
    "df_sorted['prev_country'] = df_sorted.groupby('User')['country'].shift(1)\n",
    "df_sorted['time_diff'] = df_sorted.groupby('User')['Date (UTC)'].diff().dt.total_seconds() / 3600  # hours\n",
    "\n",
    "# Flag suspicious rapid location changes\n",
    "impossible_travel = df_sorted[\n",
    "    (df_sorted['country'] != df_sorted['prev_country']) & \n",
    "    (df_sorted['time_diff'] < 1)  & # less than 1 hour apart \n",
    "    (df_sorted['User'] != \"AIM\") # Exclude AIM user\n",
    "]\n",
    "print('\\033[1m' + 'Impossible Travel' + '\\033[0m')\n",
    "print('')\n",
    "#with pd.option_context('display.max_rows', None, 'display.max_columns', None):\n",
    "print(impossible_travel[['User', 'Date (UTC)', 'country', 'prev_country' , 'signin_type']])\n",
    "print('')\n",
    "print(impossible_travel['User'].unique())\n",
    "print('')\n"
   ]
  },
  {
   "cell_type": "markdown",
   "id": "ecee906c",
   "metadata": {},
   "source": [
    "# Users with High Succesful Login Counts"
   ]
  },
  {
   "cell_type": "code",
   "execution_count": null,
   "id": "afb780dc-973e-4198-bbd7-07714b883a3b",
   "metadata": {},
   "outputs": [],
   "source": [
    "login_counts = df[df['Status'].str.lower() == 'success'].groupby('User').size().sort_values(ascending=False)\n",
    "print('\\033[1m' + 'Successful Logins' + '\\033[0m')\n",
    "print('')\n",
    "print(login_counts.sort_values(ascending=False).head(20))\n",
    "print('')\n",
    "\n",
    "#show logins where signin type is interactive and status is success\n",
    "interactive_logins = df[df['signin_type'] == 'Interactive']\n",
    "interactive_logins_success = interactive_logins[interactive_logins['Status'].str.lower() == 'success']\n",
    "print('\\033[1m' + 'Successful Interactive Logins' + '\\033[0m') \n",
    "print('')\n",
    "print(interactive_logins_success['User'].value_counts().head(20))\n",
    "print('')\n"
   ]
  },
  {
   "cell_type": "code",
   "execution_count": null,
   "id": "f997e50c-69f9-4432-8ce5-ff75ea7136d6",
   "metadata": {},
   "outputs": [],
   "source": [
    "#plot succesful interactive logins by user for the top 10 users\n",
    "top_users = interactive_logins_success['User'].value_counts().head(20)\n",
    "plt.figure(figsize=(10, 5))\n",
    "sns.barplot(x=top_users.values, y=top_users.index, hue=top_users.index, palette=\"Blues_r\", legend=False)\n",
    "plt.title(\"Top 10 Users by Successful Interactive Logins\")\n",
    "plt.xlabel(\"Successful Logins\")\n",
    "plt.ylabel(\"User\")\n",
    "plt.tight_layout()\n",
    "plt.show()\n"
   ]
  },
  {
   "cell_type": "markdown",
   "id": "d7711800",
   "metadata": {},
   "source": [
    "# Logins from Third Party Domains"
   ]
  },
  {
   "cell_type": "code",
   "execution_count": null,
   "id": "a419c16a",
   "metadata": {},
   "outputs": [],
   "source": [
    "#filter for external domains wher domain is not @contoso.com\n",
    "external_success = df[\n",
    "    (df['Status'].str.lower() == 'success') &\n",
    "    (~df['Username'].str.contains('@contoso.com', na=False))  # Exclude internal domain\n",
    "]\n",
    "\n",
    "\n",
    "\n",
    "# Group successful external logins by Username, Location, and IP address\n",
    "external_success_grouped = external_success.groupby(['Username', 'country', 'IP address']).size().reset_index(name='Count')\n",
    "\n",
    "print('\\033[1m' + 'Grouped Successful Logins with External Domains' + '\\033[0m')\n",
    "print(external_success_grouped)\n",
    "\n",
    "print('')\n",
    "print(external_success['Username'].unique())"
   ]
  },
  {
   "cell_type": "markdown",
   "id": "253afa31",
   "metadata": {},
   "source": [
    "# Alert on Succesful SMTP Logins (possible MFA bypass)"
   ]
  },
  {
   "cell_type": "code",
   "execution_count": null,
   "id": "91b543ca",
   "metadata": {},
   "outputs": [],
   "source": [
    "#Check for succesfful SMTP logins\n",
    "smtp_success = df[\n",
    "    (df['Status'].str.lower() == 'success') &\n",
    "    (df['Client app'].str.contains('SMTP'))\n",
    "]\n",
    "print('\\033[1m' + 'Successful SMTP Logins' + '\\033[0m')\n",
    "print('')\n",
    "print(smtp_success[['User', 'Date (UTC)', 'IP address', 'country']].drop_duplicates().sort_values(by='Date (UTC)'))"
   ]
  }
 ],
 "metadata": {
  "kernelspec": {
   "display_name": "Python 3",
   "language": "python",
   "name": "python3"
  },
  "language_info": {
   "codemirror_mode": {
    "name": "ipython",
    "version": 3
   },
   "file_extension": ".py",
   "mimetype": "text/x-python",
   "name": "python",
   "nbconvert_exporter": "python",
   "pygments_lexer": "ipython3",
   "version": "3.13.3"
  }
 },
 "nbformat": 4,
 "nbformat_minor": 5
}
